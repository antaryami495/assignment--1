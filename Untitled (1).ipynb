{
 "cells": [
  {
   "cell_type": "code",
   "execution_count": 1,
   "id": "2b4f5598-e172-4414-b30e-ea55b0e54668",
   "metadata": {},
   "outputs": [
    {
     "name": "stdout",
     "output_type": "stream",
     "text": [
      "OUTPUT1:-\n",
      "0\n",
      "1\n",
      "1\n",
      "2\n",
      "3\n",
      "5\n",
      "8\n",
      "13\n",
      "21\n",
      "34\n",
      "OUTPUT 2 :-\n",
      "1\n",
      "2\n",
      "3\n",
      "4\n",
      "5\n"
     ]
    }
   ],
   "source": [
    "#  Q1. Explain with an example each when to use a for loop and a while loop.\n",
    "\n",
    "#  ANSWER :-\n",
    "#                A for loop is usually used when we know the no of iterations required to complete our required task.\n",
    "#                For example :- if we want to write a program to print first 10 fibonacci numbers.\n",
    "#      PROGRAM TO FIND FIRST 10 FIBONACCI NUMBER :-\n",
    "print(\"OUTPUT1:-\")\n",
    "a,b=0,1\n",
    "for i in range(0,10):\n",
    "    print(a)\n",
    "    a,b=b,a+b\n",
    "\n",
    "print(\"OUTPUT 2 :-\")\n",
    "#               A while loop is usually used when the number of iterations is unknown and only conditions are needed\n",
    "#               to met.With the while loop we can execute a set of statements as long as a condition is true.for example:-\n",
    "#      PROGRAM TO PRINT i AS LONG AS I IS LESS THAN 6 AND IS A NATURAL NUMBER :-\n",
    "i=1\n",
    "while i <6 :\n",
    "    print(i)\n",
    "    i=i+1"
   ]
  },
  {
   "cell_type": "code",
   "execution_count": 2,
   "id": "87d52944-06c1-4dad-8f27-8ee53c1cce4d",
   "metadata": {},
   "outputs": [
    {
     "name": "stdout",
     "output_type": "stream",
     "text": [
      "OUTPUT USING FOR LOOP :-\n",
      "The Sum Of First 10 Natural numbers are --> 55\n",
      "The product Of First 10 Natural numbers are --> 3628800\n",
      "OUTPUT USING WHILE LOOP :-\n",
      "The Sum Of First 10 Natural numbers are --> 55\n",
      "The product Of First 10 Natural numbers are --> 3628800\n"
     ]
    }
   ],
   "source": [
    "#  Q2. Write a python program to print the sum and product of the first 10 natural numbers using for\n",
    "#  and while loop.\n",
    "\n",
    "#  ANSWER\n",
    "\n",
    "#  First lets write a python program to print the sum and product of the first 10 natural numbers using FOR loop\n",
    "print(\"OUTPUT USING FOR LOOP :-\")\n",
    "add,product = 0,1\n",
    "for i in range(1,11):\n",
    "    add = add + i\n",
    "    product = product * i\n",
    "print(\"The Sum Of First 10 Natural numbers are -->\",add)\n",
    "print(\"The product Of First 10 Natural numbers are -->\",product)\n",
    "\n",
    "#  NOW lets write a python program to print the sum and product of the first 10 natural numbers using WHILE loop\n",
    "print(\"OUTPUT USING WHILE LOOP :-\")\n",
    "ad,produc = 0,1\n",
    "i = 1\n",
    "while (i<=10):\n",
    "    ad=ad+i\n",
    "    produc = produc * i\n",
    "    i=i+1\n",
    "print(\"The Sum Of First 10 Natural numbers are -->\",ad)\n",
    "print(\"The product Of First 10 Natural numbers are -->\",produc)\n",
    "    "
   ]
  },
  {
   "cell_type": "code",
   "execution_count": 15,
   "id": "7d94edb7-9458-4dd5-a7c4-9be0b0b4666d",
   "metadata": {},
   "outputs": [
    {
     "name": "stdin",
     "output_type": "stream",
     "text": [
      "Enter units of electricity consumed in a month :  310\n"
     ]
    },
    {
     "name": "stdout",
     "output_type": "stream",
     "text": [
      "The electricity bill for the household this month is --> 2250.0\n"
     ]
    }
   ],
   "source": [
    "#    Q3. Create a python program to compute the electricity bill for a household.\n",
    "\n",
    "#   ANSWER -->\n",
    "\n",
    "\n",
    "u = int(input(\"Enter units of electricity consumed in a month : \"))\n",
    "if u==0 :\n",
    "    b =0\n",
    "elif u<=100 and u>0 :\n",
    "    b=u*4.5\n",
    "elif u>100 and u<=200 :\n",
    "    b=(100*4.5)+((u-100)*6)\n",
    "elif u>200 and u<=300 :\n",
    "    b=(100*4.5)+(100*6)+((u-200)*10)\n",
    "elif u>300 :\n",
    "    b=(100*4.5)+(100*6)+(100*10)+((u-300)*20)\n",
    "else:\n",
    "    b=\"Invalid input\"\n",
    "print(\"The electricity bill for the household this month is -->\",b) "
   ]
  },
  {
   "cell_type": "code",
   "execution_count": 26,
   "id": "5b792ae6-a7c8-4b74-9c42-6f53a6150dab",
   "metadata": {},
   "outputs": [
    {
     "name": "stdout",
     "output_type": "stream",
     "text": [
      "[2, 4, 5, 6, 8, 10, 12, 14, 15, 16, 18, 20, 22, 24, 25, 26, 28, 30, 32, 34, 35, 36, 38, 40, 42, 44, 45, 46, 48, 50, 52, 54, 55, 56, 58, 60, 62, 64, 65, 66, 68, 70, 72, 74, 75, 76, 78, 80, 82, 84, 85, 86, 88, 90, 92, 94, 95, 96, 98, 100]\n"
     ]
    }
   ],
   "source": [
    "#     Q4. Create a list of numbers from 1 to 100. Use for loop and while loop to calculate the cube of each\n",
    "#     number and if the cube of that number is divisible by 4 or 5 then append that number in a list and print\n",
    "#     that list.\n",
    "\n",
    "#     ANSWER -->\n",
    "\n",
    "l = list(range(1,101))\n",
    "l1 = []\n",
    "for i in l:\n",
    "    if (i**3) % 4 == 0 or (i**3) %5 == 0 :\n",
    "        l1.append(i)\n",
    "print(l1)        "
   ]
  },
  {
   "cell_type": "code",
   "execution_count": 29,
   "id": "9a0f2d09-3458-4dea-ae7a-fcb6bc1bb8e7",
   "metadata": {},
   "outputs": [
    {
     "name": "stdout",
     "output_type": "stream",
     "text": [
      "The list of vowels are --> ['a', 'o', 'e', 'o', 'e', 'a', 'a', 'a', 'i', 'e', 'i']\n",
      "The no of vowels in the string is --> 11\n"
     ]
    }
   ],
   "source": [
    "#    Q5. Write a program to filter count vowels in the below-given string.\n",
    "#    string = \"I want to become a data scientist\"\n",
    "\n",
    "#    ANSWER -->\n",
    "\n",
    "s = \"I want to become a data scientist\"\n",
    "v = []\n",
    "for i in s :\n",
    "    if i == 'a' or i == 'A' or i == 'e' or i == 'E' or i == 'i' or i == 'I' or i == 'o' or i == 'u' :\n",
    "        v.append(i)\n",
    "print(\"The list of vowels are -->\",v)        \n",
    "print(\"The no of vowels in the string is -->\",len(v))"
   ]
  },
  {
   "cell_type": "code",
   "execution_count": null,
   "id": "10187a3d-f64e-4eb3-a163-e09567c31ad5",
   "metadata": {},
   "outputs": [],
   "source": []
  }
 ],
 "metadata": {
  "kernelspec": {
   "display_name": "Python 3 (ipykernel)",
   "language": "python",
   "name": "python3"
  },
  "language_info": {
   "codemirror_mode": {
    "name": "ipython",
    "version": 3
   },
   "file_extension": ".py",
   "mimetype": "text/x-python",
   "name": "python",
   "nbconvert_exporter": "python",
   "pygments_lexer": "ipython3",
   "version": "3.10.8"
  }
 },
 "nbformat": 4,
 "nbformat_minor": 5
}
